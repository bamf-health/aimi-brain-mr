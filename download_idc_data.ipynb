{
 "cells": [
  {
   "cell_type": "code",
   "execution_count": 1,
   "metadata": {},
   "outputs": [],
   "source": [
    "from tempfile import TemporaryDirectory\n",
    "from pathlib import Path\n",
    "import shutil\n",
    "import subprocess\n",
    "from tqdm.auto import tqdm\n",
    "from textwrap import dedent\n",
    "\n",
    "%load_ext google.cloud.bigquery"
   ]
  },
  {
   "cell_type": "code",
   "execution_count": 2,
   "metadata": {},
   "outputs": [],
   "source": [
    "task_dir = Path()\n",
    "dcm_dir = task_dir / \"data\" / \"dcm\"\n",
    "nii_dir = task_dir / \"data\" / \"nii\"\n",
    "dcm_dir.mkdir(exist_ok=True, parents=True)\n",
    "nii_dir.mkdir(exist_ok=True, parents=True)"
   ]
  },
  {
   "cell_type": "code",
   "execution_count": 3,
   "metadata": {},
   "outputs": [
    {
     "data": {
      "application/vnd.jupyter.widget-view+json": {
       "model_id": "2a76dfc8543042eeb339008fe130d292",
       "version_major": 2,
       "version_minor": 0
      },
      "text/plain": [
       "Query is running:   0%|          |"
      ]
     },
     "metadata": {},
     "output_type": "display_data"
    },
    {
     "data": {
      "application/vnd.jupyter.widget-view+json": {
       "model_id": "67efe1c9bc2c43a9a452ab3ad58fbf32",
       "version_major": 2,
       "version_minor": 0
      },
      "text/plain": [
       "Downloading:   0%|          |"
      ]
     },
     "metadata": {},
     "output_type": "display_data"
    }
   ],
   "source": [
    "%%bigquery series_desc\n",
    "# Get a list of all the unique series descriptions in the upenn_gbm collection that contain the string \"t2\"\n",
    "SELECT DISTINCT(seriesDescription)\n",
    "FROM `bigquery-public-data.idc_current.dicom_all`\n",
    "WHERE collection_id=\"upenn_gbm\" and Modality=\"MR\""
   ]
  },
  {
   "cell_type": "code",
   "execution_count": 4,
   "metadata": {},
   "outputs": [
    {
     "data": {
      "application/vnd.jupyter.widget-view+json": {
       "model_id": "94279feac29f4db9b4748838eaf684cd",
       "version_major": 2,
       "version_minor": 0
      },
      "text/plain": [
       "Query is running:   0%|          |"
      ]
     },
     "metadata": {},
     "output_type": "display_data"
    },
    {
     "data": {
      "application/vnd.jupyter.widget-view+json": {
       "model_id": "ad93adfc379b4507b35030fe8b2d1565",
       "version_major": 2,
       "version_minor": 0
      },
      "text/plain": [
       "Downloading:   0%|          |"
      ]
     },
     "metadata": {},
     "output_type": "display_data"
    }
   ],
   "source": [
    "%%bigquery selection_df\n",
    "# create list of series to download from upenn_gbm collection that contain the string \"t2\" in the series description\n",
    "SELECT\n",
    "  collection_id,\n",
    "  PatientID,\n",
    "  StudyInstanceUID,\n",
    "  SeriesInstanceUID,\n",
    "  StudyDate,\n",
    "  Modality,\n",
    "  StudyDescription,\n",
    "  SeriesDescription,\n",
    "  # Organize the files in-place on the fly\n",
    "  ANY_VALUE(CONCAT(\"cp s3\",\n",
    "      REGEXP_SUBSTR(gcs_url, \"(://.*)/\"),\n",
    "      \"/* \",collection_id,\"/\",PatientID,\"/\",\n",
    "      StudyInstanceUID,\"/\",SeriesInstanceUID)) AS s5cmd_command,\n",
    "  COUNT(sopInstanceUID) AS instance_count,\n",
    "FROM\n",
    "  `bigquery-public-data.idc_current.dicom_all`\n",
    "WHERE\n",
    "  collection_id=\"upenn_gbm\" and Modality=\"MR\"\n",
    "GROUP BY\n",
    "  SeriesInstanceUID,collection_id,PatientID,StudyInstanceUID,SeriesInstanceUID,StudyDate,Modality,StudyDescription,SeriesDescription"
   ]
  },
  {
   "cell_type": "code",
   "execution_count": 5,
   "metadata": {},
   "outputs": [],
   "source": [
    "# save selection dataframe to pickle, useful for further data curation\n",
    "selection_df.sort_values(\n",
    "    by=[\n",
    "        \"collection_id\",\n",
    "        \"PatientID\",\n",
    "        \"StudyDate\",\n",
    "        \"StudyInstanceUID\",\n",
    "        \"SeriesInstanceUID\",\n",
    "    ],\n",
    "    inplace=True,\n",
    ")\n",
    "pkl_file = task_dir / \"data\" / \"scan_data.pkl\"\n",
    "selection_df.to_pickle(pkl_file)\n",
    "selection_df.to_csv(pkl_file.with_suffix(\".csv\"), index=False)\n"
   ]
  },
  {
   "cell_type": "markdown",
   "metadata": {},
   "source": [
    "Download the manifest with s5cmd"
   ]
  },
  {
   "cell_type": "code",
   "execution_count": 6,
   "metadata": {},
   "outputs": [],
   "source": [
    "# check the download directory and limit to just the files that are missing\n",
    "for i, row in selection_df.iterrows():\n",
    "    dcm_series_dir = dcm_dir / row[\"s5cmd_command\"].split()[-1]\n",
    "    dcm_cnt = len(list(dcm_series_dir.glob(\"*.dcm\")))\n",
    "    selection_df.loc[i, \"downloaded_cnt\"] = dcm_cnt\n"
   ]
  },
  {
   "cell_type": "code",
   "execution_count": 7,
   "metadata": {},
   "outputs": [
    {
     "name": "stdout",
     "output_type": "stream",
     "text": [
      "Run the following commands to download the dcm data\n",
      "                cd data/dcm\n",
      "                s5cmd --no-sign-request --endpoint-url https://storage.googleapis.com run /home/gmurugesan/projects/experimental_projects/AIMI/aimiv2/deliverable/github_repo/aimi-brain-mr/s5cmd_gcs_missing_manifest.s5cmd\n",
      "                cd -\n"
     ]
    }
   ],
   "source": [
    "# save to file\n",
    "missing_df = selection_df[\n",
    "    selection_df[\"instance_count\"] != selection_df[\"downloaded_cnt\"]\n",
    "]\n",
    "if len(missing_df) == 0:\n",
    "    print(\"all files already downloaded\")\n",
    "else:\n",
    "    missing_df[\"s5cmd_command\"].to_csv(\n",
    "        \"s5cmd_gcs_missing_manifest.s5cmd\", header=False, index=False\n",
    "    )\n",
    "    print(\n",
    "        dedent(\n",
    "            f\"\"\"Run the following commands to download the dcm data\n",
    "                cd data/dcm\n",
    "                s5cmd --no-sign-request --endpoint-url https://storage.googleapis.com run {Path(\"s5cmd_gcs_missing_manifest.s5cmd\").resolve()}\n",
    "                cd -\"\"\"\n",
    "        )\n",
    "    )\n",
    "\n",
    "selection_df[\"s5cmd_command\"].to_csv(\n",
    "    \"s5cmd_gcs_manifest.s5cmd\", header=False, index=False\n",
    ")"
   ]
  },
  {
   "cell_type": "markdown",
   "metadata": {},
   "source": [
    "Convert the files to nifti"
   ]
  },
  {
   "cell_type": "code",
   "execution_count": 8,
   "metadata": {},
   "outputs": [],
   "source": [
    "def dcm_to_niix(dcm_dir: Path, nii_path: Path):\n",
    "    \"\"\"uses dcm2niix to convert a series of dicom files to a nifti file\"\"\"\n",
    "    with TemporaryDirectory() as tmpdir:\n",
    "        args = [\n",
    "            \"dcm2niix\",\n",
    "            \"-o\",\n",
    "            tmpdir,\n",
    "            \"-z\",\n",
    "            \"y\",\n",
    "            str(dcm_dir.resolve()),\n",
    "        ]\n",
    "        subprocess.run(args, check=True)\n",
    "\n",
    "        nii_files = list(Path(tmpdir).glob(\"*Eq_*.nii.gz\"))\n",
    "        if len(nii_files) > 1:\n",
    "            raise ValueError(f\"Expected 1 Eq_*.nii.gz file, found {len(nii_files)}\")\n",
    "        elif len(nii_files) == 1:\n",
    "            shutil.move(nii_files[0], nii_path)\n",
    "            return\n",
    "        # no Eq images\n",
    "        nii_files = list(Path(tmpdir).glob(\"*.nii.gz\"))\n",
    "        if len(nii_files) > 1:\n",
    "            raise ValueError(f\"Expected 1 *.nii.gz file, found {len(nii_files)}\")\n",
    "        elif len(nii_files) == 1:\n",
    "            shutil.move(nii_files[0], nii_path)\n",
    "            return\n",
    "        raise ValueError(f\"Expected 1 *.nii.gz file, found 0\")"
   ]
  },
  {
   "cell_type": "code",
   "execution_count": 9,
   "metadata": {},
   "outputs": [
    {
     "data": {
      "application/vnd.jupyter.widget-view+json": {
       "model_id": "77a2d803cb8841f980445cf461084f66",
       "version_major": 2,
       "version_minor": 0
      },
      "text/plain": [
       "0it [00:00, ?it/s]"
      ]
     },
     "metadata": {},
     "output_type": "display_data"
    }
   ],
   "source": [
    "bad_files = []\n",
    "dcm_series_dirs = {x.parent for x in dcm_dir.rglob(\"*.dcm\")}\n",
    "for dcm_series_dir in tqdm(dcm_series_dirs):\n",
    "    nii_file = nii_dir / f\"{dcm_series_dir.relative_to(dcm_dir)}.nii.gz\"\n",
    "    if not nii_file.exists():\n",
    "        nii_file.parent.mkdir(parents=True, exist_ok=True)\n",
    "        try:\n",
    "            dcm_to_niix(dcm_series_dir, nii_file)\n",
    "        except:\n",
    "            bad_files.append(dcm_series_dir)\n"
   ]
  },
  {
   "cell_type": "code",
   "execution_count": 10,
   "metadata": {},
   "outputs": [
    {
     "data": {
      "text/plain": [
       "0"
      ]
     },
     "execution_count": 10,
     "metadata": {},
     "output_type": "execute_result"
    }
   ],
   "source": [
    "len(bad_files)\n"
   ]
  }
 ],
 "metadata": {
  "kernelspec": {
   "display_name": ".venv",
   "language": "python",
   "name": "python3"
  },
  "language_info": {
   "codemirror_mode": {
    "name": "ipython",
    "version": 3
   },
   "file_extension": ".py",
   "mimetype": "text/x-python",
   "name": "python",
   "nbconvert_exporter": "python",
   "pygments_lexer": "ipython3",
   "version": "3.10.12"
  },
  "orig_nbformat": 4
 },
 "nbformat": 4,
 "nbformat_minor": 2
}
